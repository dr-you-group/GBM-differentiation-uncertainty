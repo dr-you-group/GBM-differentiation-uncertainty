{
 "cells": [
  {
   "cell_type": "code",
   "execution_count": null,
   "id": "8c956739",
   "metadata": {
    "id": "8c956739"
   },
   "outputs": [],
   "source": [
    "%matplotlib inline\n",
    "\n",
    "import os\n",
    "import numpy as np\n",
    "import pandas as pd\n",
    "from glob import glob\n",
    "import nibabel as nib\n",
    "from tqdm import tqdm\n",
    "import matplotlib.pyplot as plt\n",
    "from sklearn.model_selection import train_test_split\n",
    "\n",
    "\n",
    "from PIL import Image\n",
    "import matplotlib.cm as cm\n",
    "import cv2\n",
    "\n",
    "from sklearn.preprocessing import MinMaxScaler"
   ]
  },
  {
   "cell_type": "code",
   "execution_count": null,
   "id": "e3a362ae-98ff-4e04-a26e-46dfb6d8be68",
   "metadata": {},
   "outputs": [],
   "source": [
    "print(np.__version__)\n",
    "print(pd.__version__)\n",
    "\n",
    "print(nib.__version__)\n",
    "print(cv2.__version__)"
   ]
  },
  {
   "cell_type": "code",
   "execution_count": null,
   "id": "69ae6e4f",
   "metadata": {
    "id": "69ae6e4f"
   },
   "outputs": [],
   "source": [
    "data_dir= '../' #put your data path"
   ]
  },
  {
   "cell_type": "code",
   "execution_count": null,
   "id": "520088eb",
   "metadata": {
    "id": "520088eb"
   },
   "outputs": [],
   "source": [
    "sev_dir = os.path.join(data_dir, 'severance')"
   ]
  },
  {
   "cell_type": "code",
   "execution_count": null,
   "id": "232ac41f",
   "metadata": {
    "id": "232ac41f"
   },
   "outputs": [],
   "source": [
    "asan_dir = os.path.join(data_dir, 'asan')"
   ]
  },
  {
   "cell_type": "markdown",
   "id": "d09848b4-7874-4f44-befe-851d526b5815",
   "metadata": {},
   "source": [
    "# 1. Check Data"
   ]
  },
  {
   "cell_type": "markdown",
   "id": "heavy-second",
   "metadata": {
    "tags": []
   },
   "source": [
    "## 1.1. Get pt ID list"
   ]
  },
  {
   "cell_type": "code",
   "execution_count": null,
   "id": "fossil-rapid",
   "metadata": {
    "tags": []
   },
   "outputs": [],
   "source": [
    "# get pt id list\n",
    "sev_gbm_pt_list = os.listdir(os.path.join(sev_dir, 'GBM'))\n",
    "sev_meta_pt_list = os.listdir(os.path.join(sev_dir, 'meta'))\n",
    "\n",
    "asan_gbm_pt_list = os.listdir(os.path.join(asan_dir, 'GBM'))\n",
    "asan_meta_pt_list = os.listdir(os.path.join(asan_dir, 'meta'))"
   ]
  },
  {
   "cell_type": "code",
   "execution_count": null,
   "id": "valuable-bronze",
   "metadata": {},
   "outputs": [],
   "source": [
    "print('Sev_GBM : ', len(sev_gbm_pt_list))\n",
    "print('Sev_Metastasis : ', len(sev_meta_pt_list))\n",
    "print('Asan_GBM : ', len(asan_gbm_pt_list))\n",
    "print('Asan_Metastasis : ', len(asan_meta_pt_list))"
   ]
  },
  {
   "cell_type": "code",
   "execution_count": null,
   "id": "brave-assignment",
   "metadata": {},
   "outputs": [],
   "source": [
    "# check overlap\n",
    "print('Sev_GBM : ', len(set(sev_gbm_pt_list)))\n",
    "print('Sev_Metastasis : ', len(set(sev_meta_pt_list)))\n",
    "print('Asan_GBM : ', len(set(asan_gbm_pt_list)))\n",
    "print('Asan_Metastasis : ', len(set(asan_meta_pt_list)))"
   ]
  },
  {
   "cell_type": "code",
   "execution_count": null,
   "id": "optimum-detection",
   "metadata": {},
   "outputs": [],
   "source": [
    "# remove weird data pt\n",
    "# Sev - GBM : [26, 33, 52, 114, 122, 132, 145, 156]\n",
    "# Sev - meta : [6, 43]\n",
    "\n",
    "sev_gbm_pt_list = np.delete(np.array(sev_gbm_pt_list), [26, 33, 52, 114, 122, 132, 145, 156])\n",
    "sev_meta_pt_list = np.delete(np.array(sev_meta_pt_list), [6, 43])"
   ]
  },
  {
   "cell_type": "code",
   "execution_count": null,
   "id": "determined-maryland",
   "metadata": {},
   "outputs": [],
   "source": [
    "# final data amount to be used\n",
    "print('Sev_GBM : ', len(set(sev_gbm_pt_list)))\n",
    "print('Sev_Metastasis : ', len(set(sev_meta_pt_list)))\n",
    "print('Asan_GBM : ', len(set(asan_gbm_pt_list)))\n",
    "print('Asan_Metastasis : ', len(set(asan_meta_pt_list)))"
   ]
  },
  {
   "cell_type": "code",
   "execution_count": null,
   "id": "adolescent-arbitration",
   "metadata": {},
   "outputs": [],
   "source": [
    "# making pt id list in csv file \n",
    "d = dict(Sev_GBM = sev_gbm_pt_list, \n",
    "         Sev_Meta = sev_meta_pt_list,\n",
    "        Asan_GBM = np.array(asan_gbm_pt_list), \n",
    "        Asan_Meta = np.array(asan_meta_pt_list))\n",
    "    \n",
    "df = pd.DataFrame(dict([ (k,pd.Series(v)) for k,v in d.items() ]))\n",
    "\n",
    "df.to_csv('Brain-GBMmeta_pt_list.csv')"
   ]
  },
  {
   "cell_type": "markdown",
   "id": "arabic-arrival",
   "metadata": {},
   "source": [
    "## 1.2. Get all data paths"
   ]
  },
  {
   "cell_type": "code",
   "execution_count": null,
   "id": "759285c2",
   "metadata": {
    "id": "759285c2"
   },
   "outputs": [],
   "source": [
    "# load segmentation data (a.k.a mask)\n",
    "sev_gbm_dir_mask = glob(os.path.join(sev_dir, 'GBM', '*/new_segmentation.nii.gz'))\n",
    "sev_meta_dir_mask = glob(os.path.join(sev_dir, 'meta', '*/new_segmentation.nii.gz'))\n",
    "asan_gbm_dir_mask = glob(os.path.join(asan_dir, 'GBM', '*/new_segmentation.nii.gz'))\n",
    "asan_meta_dir_mask = glob(os.path.join(asan_dir, 'meta', '*/new_segmentation.nii.gz'))"
   ]
  },
  {
   "cell_type": "code",
   "execution_count": null,
   "id": "3f61c4be",
   "metadata": {
    "id": "3f61c4be"
   },
   "outputs": [],
   "source": [
    "# Load CT1 data\n",
    "sev_gbm_dir_ct1 = glob(os.path.join(sev_dir, 'GBM', '*/CT1_r2s_bet_reg_znormed.nii.gz'))\n",
    "sev_meta_dir_ct1 = glob(os.path.join(sev_dir, 'meta', '*/CT1_r2s_bet_reg_znormed.nii.gz'))\n",
    "asan_gbm_dir_ct1 = glob(os.path.join(asan_dir, 'GBM', '*/CT1_r2s_bet_reg_znormed.nii.gz'))\n",
    "asan_meta_dir_ct1 = glob(os.path.join(asan_dir, 'meta', '*/CT1_r2s_bet_reg_znormed.nii.gz'))"
   ]
  },
  {
   "cell_type": "code",
   "execution_count": null,
   "id": "dbd21c5d",
   "metadata": {
    "id": "dbd21c5d"
   },
   "outputs": [],
   "source": [
    "# Load T2 data\n",
    "sev_gbm_dir_t2 = glob(os.path.join(sev_dir, 'GBM', '*/T2_r2s_bet_reg_znormed.nii.gz'))\n",
    "sev_meta_dir_t2 = glob(os.path.join(sev_dir, 'meta', '*/T2_r2s_bet_reg_znormed.nii.gz'))\n",
    "asan_gbm_dir_t2 = glob(os.path.join(asan_dir, 'GBM', '*/T2_r2s_bet_reg_znormed.nii.gz'))\n",
    "asan_meta_dir_t2 = glob(os.path.join(asan_dir, 'meta', '*/T2_r2s_bet_reg_znormed.nii.gz'))"
   ]
  },
  {
   "cell_type": "code",
   "execution_count": null,
   "id": "ce300739",
   "metadata": {},
   "outputs": [],
   "source": [
    "# remove weird data - sev_gbm: [26, 33, 52, 114, 122, 132, 145, 156]; sev_meta: [6, 43]\n",
    "sev_gbm_dir_mask = np.delete(np.array(sev_gbm_dir_mask), [26, 33, 52, 114, 122, 132, 145, 156])\n",
    "sev_gbm_dir_ct1 = np.delete(np.array(sev_gbm_dir_ct1), [26, 33, 52, 114, 122, 132, 145, 156])\n",
    "sev_gbm_dir_t2 = np.delete(np.array(sev_gbm_dir_t2), [26, 33, 52, 114, 122, 132, 145, 156])\n",
    "\n",
    "sev_meta_dir_mask = np.delete(np.array(sev_meta_dir_mask), [6, 43])\n",
    "sev_meta_dir_ct1 = np.delete(np.array(sev_meta_dir_ct1), [6, 43])\n",
    "sev_meta_dir_t2 = np.delete(np.array(sev_meta_dir_t2), [6, 43])"
   ]
  },
  {
   "cell_type": "markdown",
   "id": "44ecaf91",
   "metadata": {},
   "source": [
    "## 1.3. Check shapes"
   ]
  },
  {
   "cell_type": "code",
   "execution_count": null,
   "id": "476cda83",
   "metadata": {},
   "outputs": [],
   "source": [
    "# check if there's shape difference btw modalities\n",
    "def check_shape_difference(mask, ct1, t2): # put dir list (*nii.gz)\n",
    "    for i in tqdm(range(len(mask))):\n",
    "        mask_array = nib.load(mask[i]).get_fdata()\n",
    "        ct1_array = nib.load(ct1[i]).get_fdata()\n",
    "        t2_array = nib.load(t2[i]).get_fdata()\n",
    "        \n",
    "        if mask_array.shape != ct1_array.shape:\n",
    "            print(mask[i])\n",
    "        if mask_array.shape != t2_array.shape:\n",
    "            print(mask[i])"
   ]
  },
  {
   "cell_type": "code",
   "execution_count": null,
   "id": "cee78c48",
   "metadata": {},
   "outputs": [],
   "source": [
    "check_shape_difference(sev_gbm_dir_mask, sev_gbm_dir_ct1, sev_gbm_dir_t2)\n",
    "check_shape_difference(sev_meta_dir_mask, sev_meta_dir_ct1, sev_meta_dir_t2)\n",
    "\n",
    "check_shape_difference(asan_gbm_dir_mask, asan_gbm_dir_ct1, asan_gbm_dir_t2)\n",
    "check_shape_difference(asan_meta_dir_mask, asan_meta_dir_ct1, asan_meta_dir_t2) \n",
    "\n",
    "#no shape diffence!"
   ]
  },
  {
   "cell_type": "markdown",
   "id": "b0b6f02f",
   "metadata": {
    "id": "b0b6f02f"
   },
   "source": [
    "# 2. Extracting top 5 slices by tumor segmentation data"
   ]
  },
  {
   "cell_type": "markdown",
   "id": "7a4b7ffb",
   "metadata": {},
   "source": [
    "## 2.1. Get top 5 tumor lesion slice index"
   ]
  },
  {
   "cell_type": "code",
   "execution_count": null,
   "id": "76844c49",
   "metadata": {
    "id": "76844c49"
   },
   "outputs": [],
   "source": [
    "# count non-zero values in each layer of a single mask(segmentation) file and get top 5 layer indexes\n",
    "def get_slice_index(mri_array):\n",
    "    mri_shape = mri_array.shape\n",
    "    \n",
    "    non_zero=[]\n",
    "    for i in range(mri_shape[2]):\n",
    "        data, count = np.unique(mri_array[:,:,i], return_counts=True)\n",
    "        non_zero_pixel = np.sum(count[np.where(data>0)])\n",
    "        non_zero.append(non_zero_pixel)\n",
    "    \n",
    "    # sorting index with no_zero pixel amount \n",
    "    non_zero = sorted(range(len(non_zero)), key=lambda i: non_zero[i])[-5:]\n",
    "    \n",
    "    return non_zero"
   ]
  },
  {
   "cell_type": "code",
   "execution_count": null,
   "id": "006e7734",
   "metadata": {
    "id": "006e7734"
   },
   "outputs": [],
   "source": [
    "def total_index(dir):\n",
    "    top_5_index=[]\n",
    "    for mask_path in tqdm(dir):\n",
    "        mri_array = nib.load(mask_path).get_fdata()\n",
    "        non_zero = get_slice_index(mri_array)\n",
    "        top_5_index.append(non_zero)\n",
    "    return top_5_index"
   ]
  },
  {
   "cell_type": "code",
   "execution_count": null,
   "id": "34c4baf2",
   "metadata": {
    "id": "34c4baf2"
   },
   "outputs": [],
   "source": [
    "sev_gbm_index = total_index(sev_gbm_dir_mask)\n",
    "sev_meta_index = total_index(sev_meta_dir_mask)\n",
    "asan_gbm_index = total_index(asan_gbm_dir_mask)\n",
    "asan_meta_index = total_index(asan_meta_dir_mask)"
   ]
  },
  {
   "cell_type": "markdown",
   "id": "9a4c2338",
   "metadata": {},
   "source": [
    "## 2.2. Extracting top 5 slices: using INDEX in 2.1."
   ]
  },
  {
   "cell_type": "markdown",
   "id": "07690006",
   "metadata": {},
   "source": [
    "Severance : Internal data  \n",
    "Asan : External Test Data"
   ]
  },
  {
   "cell_type": "code",
   "execution_count": null,
   "id": "6714c0d1",
   "metadata": {
    "id": "6714c0d1"
   },
   "outputs": [],
   "source": [
    "def get_top5slices(path_list, top_5_index):\n",
    "    data = []\n",
    "    \n",
    "    for idx, mri in enumerate(tqdm(path_list)):\n",
    "        mri_array = nib.load(mri).get_fdata()        \n",
    "        mri_array_ = mri_array[:, :, top_5_index[idx]]\n",
    "        data.append(mri_array_) \n",
    "\n",
    "    return data"
   ]
  },
  {
   "cell_type": "markdown",
   "id": "c7cad0c0",
   "metadata": {
    "id": "c7cad0c0"
   },
   "source": [
    "### 2.2.1. Internal data"
   ]
  },
  {
   "cell_type": "code",
   "execution_count": null,
   "id": "3385a63d",
   "metadata": {
    "tags": []
   },
   "outputs": [],
   "source": [
    "# mask\n",
    "int_mask_gbm = get_top5slices(sev_gbm_dir_mask, sev_gbm_index)\n",
    "int_mask_meta = get_top5slices(sev_meta_dir_mask, sev_meta_index)"
   ]
  },
  {
   "cell_type": "code",
   "execution_count": null,
   "id": "763350e8",
   "metadata": {},
   "outputs": [],
   "source": [
    "# ct1\n",
    "int_ct1_gbm = get_top5slices(sev_gbm_dir_ct1, sev_gbm_index)\n",
    "int_ct1_meta = get_top5slices(sev_meta_dir_ct1, sev_meta_index)"
   ]
  },
  {
   "cell_type": "code",
   "execution_count": null,
   "id": "d22afe61",
   "metadata": {},
   "outputs": [],
   "source": [
    "# t2 \n",
    "int_t2_gbm = get_top5slices(sev_gbm_dir_t2, sev_gbm_index)\n",
    "int_t2_meta = get_top5slices(sev_meta_dir_t2, sev_meta_index)"
   ]
  },
  {
   "cell_type": "code",
   "execution_count": null,
   "id": "5900deab",
   "metadata": {},
   "outputs": [],
   "source": [
    "# check data amount\n",
    "print('int_mask_gbm : ', len(int_mask_gbm))\n",
    "print('int_mask_meta : ', len(int_mask_meta))\n",
    "print('int_ct1_gbm : ', len(int_ct1_gbm))\n",
    "print('int_ct1_meta : ', len(int_ct1_meta))\n",
    "print('int_t2_gbm : ', len(int_t2_gbm))\n",
    "print('int_t2_meta : ', len(int_t2_meta))"
   ]
  },
  {
   "cell_type": "code",
   "execution_count": null,
   "id": "240f9526",
   "metadata": {
    "tags": []
   },
   "outputs": [],
   "source": [
    "# visualizing extracted data\n",
    "n=0\n",
    "f, axarr = plt.subplots(10, 10, sharex=True, sharey=True, figsize=(20, 20))\n",
    "for i in range(10):\n",
    "    for j in range(10):\n",
    "        # put dataset you want to see\n",
    "        axarr[i, j].imshow(int_mask_gbm[n+10*i+j][:,:,4], cmap='gray')\n",
    "        axarr[i, j].axis('off')\n",
    "        axarr[i, j].set_title(n+10*i+j)\n",
    "plt.show()"
   ]
  },
  {
   "cell_type": "markdown",
   "id": "5b5424cf",
   "metadata": {
    "id": "5b5424cf"
   },
   "source": [
    "### 2.2.2. External test data"
   ]
  },
  {
   "cell_type": "code",
   "execution_count": null,
   "id": "c123ff12",
   "metadata": {},
   "outputs": [],
   "source": [
    "# mask\n",
    "ext_mask_gbm = get_top5slices(asan_gbm_dir_mask, asan_gbm_index)\n",
    "ext_mask_meta = get_top5slices(asan_meta_dir_mask, asan_meta_index)"
   ]
  },
  {
   "cell_type": "code",
   "execution_count": null,
   "id": "9e3caca5",
   "metadata": {},
   "outputs": [],
   "source": [
    "# ct1 \n",
    "ext_ct1_gbm = get_top5slices(asan_gbm_dir_ct1, asan_gbm_index)\n",
    "ext_ct1_meta = get_top5slices(asan_meta_dir_ct1, asan_meta_index)"
   ]
  },
  {
   "cell_type": "code",
   "execution_count": null,
   "id": "0e4c898b",
   "metadata": {},
   "outputs": [],
   "source": [
    "# t2\n",
    "ext_t2_gbm = get_top5slices(asan_gbm_dir_t2, asan_gbm_index)\n",
    "ext_t2_meta = get_top5slices(asan_meta_dir_t2, asan_meta_index)"
   ]
  },
  {
   "cell_type": "code",
   "execution_count": null,
   "id": "6285ccd6-5343-47a1-a6e0-0873ef0cddba",
   "metadata": {},
   "outputs": [],
   "source": [
    "# check data amount\n",
    "print('ext_mask_gbm : ', len(ext_mask_gbm))\n",
    "print('ext_mask_meta : ', len(ext_mask_meta))\n",
    "print('ext_ct1_gbm : ', len(ext_ct1_gbm))\n",
    "print('ext_ct1_meta : ', len(ext_ct1_meta))\n",
    "print('ext_t2_gbm : ', len(ext_t2_gbm))\n",
    "print('ext_t2_meta : ', len(ext_t2_meta))"
   ]
  },
  {
   "cell_type": "code",
   "execution_count": null,
   "id": "004e912d",
   "metadata": {},
   "outputs": [],
   "source": [
    "# visualizing extracted data\n",
    "n=0\n",
    "f, axarr = plt.subplots(10, 10, sharex=True, sharey=True, figsize=(20, 20))\n",
    "for i in range(10):\n",
    "    for j in range(10):\n",
    "        # put dataset you want to see\n",
    "        axarr[i, j].imshow(ext_mask_gbm[n+10*i+j][:,:,4], cmap='gray')\n",
    "        axarr[i, j].axis('off')\n",
    "        axarr[i, j].set_title(n+10*i+j)\n",
    "plt.show()"
   ]
  },
  {
   "cell_type": "markdown",
   "id": "59dd3f5a",
   "metadata": {
    "id": "59dd3f5a"
   },
   "source": [
    "# 3. Data Preprocessing\n"
   ]
  },
  {
   "cell_type": "markdown",
   "id": "584eff6c",
   "metadata": {},
   "source": [
    "## 3.1. Internal data train, validation, test split\n",
    "make sure single pt's data (five in this case) go into single group"
   ]
  },
  {
   "cell_type": "code",
   "execution_count": null,
   "id": "d18dcb7b-7042-4ce1-9cb8-940cd3291b35",
   "metadata": {},
   "outputs": [],
   "source": [
    "gbm_train_idx, gbm_test_idx = train_test_split(np.arange(0, len(int_mask_gbm)), test_size=0.15, random_state=42)\n",
    "gbm_train_idx, gbm_val_idx = train_test_split(np.arange(0, len(gbm_train_idx)), test_size=0.1, random_state=42)\n",
    "\n",
    "meta_train_idx, meta_test_idx = train_test_split(np.arange(0, len(int_mask_meta)), test_size=0.15, random_state=42)\n",
    "meta_train_idx, meta_val_idx = train_test_split(np.arange(0, len(meta_train_idx)), test_size=0.1, random_state=42)"
   ]
  },
  {
   "cell_type": "code",
   "execution_count": null,
   "id": "7ca531d4-de21-4acf-b40a-aa58083a1443",
   "metadata": {},
   "outputs": [],
   "source": [
    "x_train_gbm_mask = np.array(int_mask_gbm)[gbm_train_idx]\n",
    "x_train_gbm_ct1 = np.array(int_ct1_gbm)[gbm_train_idx]\n",
    "x_train_gbm_t2 = np.array(int_t2_gbm)[gbm_train_idx]\n",
    "\n",
    "x_val_gbm_mask = np.array(int_mask_gbm)[gbm_val_idx]\n",
    "x_val_gbm_ct1 = np.array(int_ct1_gbm)[gbm_val_idx]\n",
    "x_val_gbm_t2 = np.array(int_t2_gbm)[gbm_val_idx]\n",
    "\n",
    "x_test_gbm_mask = np.array(int_mask_gbm)[gbm_test_idx]\n",
    "x_test_gbm_ct1 = np.array(int_ct1_gbm)[gbm_test_idx]\n",
    "x_test_gbm_t2 = np.array(int_t2_gbm)[gbm_test_idx]"
   ]
  },
  {
   "cell_type": "code",
   "execution_count": null,
   "id": "cf63d31d-ad4d-4a9a-8e79-06dcf1d47aaa",
   "metadata": {},
   "outputs": [],
   "source": [
    "x_train_meta_mask = np.array(int_mask_meta)[meta_train_idx]\n",
    "x_train_meta_ct1 = np.array(int_ct1_meta)[meta_train_idx]\n",
    "x_train_meta_t2 = np.array(int_t2_meta)[meta_train_idx]\n",
    "\n",
    "x_val_meta_mask = np.array(int_mask_meta)[meta_val_idx]\n",
    "x_val_meta_ct1 = np.array(int_ct1_meta)[meta_val_idx]\n",
    "x_val_meta_t2 = np.array(int_t2_meta)[meta_val_idx]\n",
    "\n",
    "x_test_meta_mask = np.array(int_mask_meta)[meta_test_idx]\n",
    "x_test_meta_ct1 = np.array(int_ct1_meta)[meta_test_idx]\n",
    "x_test_meta_t2 = np.array(int_t2_meta)[meta_test_idx]"
   ]
  },
  {
   "cell_type": "code",
   "execution_count": null,
   "id": "88d33b77",
   "metadata": {},
   "outputs": [],
   "source": [
    "len(x_train_gbm_mask), len(x_val_gbm_mask), len(x_test_gbm_mask), len(x_train_meta_mask), len(x_val_meta_mask), len(x_test_meta_mask)"
   ]
  },
  {
   "cell_type": "code",
   "execution_count": null,
   "id": "6c6d5757",
   "metadata": {},
   "outputs": [],
   "source": [
    "len(x_train_gbm_ct1), len(x_val_gbm_ct1), len(x_test_gbm_ct1), len(x_train_meta_ct1), len(x_val_meta_ct1), len(x_test_meta_ct1)"
   ]
  },
  {
   "cell_type": "code",
   "execution_count": null,
   "id": "a6252623",
   "metadata": {},
   "outputs": [],
   "source": [
    "len(x_train_gbm_t2), len(x_val_gbm_t2), len(x_test_gbm_t2), len(x_train_meta_t2), len(x_val_meta_t2), len(x_test_meta_t2)"
   ]
  },
  {
   "cell_type": "code",
   "execution_count": null,
   "id": "438faf67",
   "metadata": {},
   "outputs": [],
   "source": [
    "# turning 3d array into 2d array\n",
    "def TurnInto_2DArray(fiveslices_list): #x_train_gbm, x_train_meta etc. \n",
    "    twod_data = []\n",
    "    for threed_array in fiveslices_list:\n",
    "        for i in range(5):\n",
    "            twod_data.append(threed_array[:,:,i])\n",
    "    return twod_data"
   ]
  },
  {
   "cell_type": "code",
   "execution_count": null,
   "id": "40b7474d-5b46-46c0-afe3-d35d1977788a",
   "metadata": {},
   "outputs": [],
   "source": [
    "x_train_gbm_mask = TurnInto_2DArray(x_train_gbm_mask)\n",
    "x_train_gbm_ct1 = TurnInto_2DArray(x_train_gbm_ct1)\n",
    "x_train_gbm_t2 = TurnInto_2DArray(x_train_gbm_t2)\n",
    "\n",
    "x_val_gbm_mask = TurnInto_2DArray(x_val_gbm_mask)\n",
    "x_val_gbm_ct1 = TurnInto_2DArray(x_val_gbm_ct1)\n",
    "x_val_gbm_t2 = TurnInto_2DArray(x_val_gbm_t2)\n",
    "\n",
    "x_test_gbm_mask = TurnInto_2DArray(x_test_gbm_mask)\n",
    "x_test_gbm_ct1 = TurnInto_2DArray(x_test_gbm_ct1)\n",
    "x_test_gbm_t2 = TurnInto_2DArray(x_test_gbm_t2)\n",
    "\n",
    "x_ext_gbm_mask = TurnInto_2DArray(ext_mask_gbm)\n",
    "x_ext_gbm_ct1 = TurnInto_2DArray(ext_ct1_gbm)\n",
    "x_ext_gbm_t2 = TurnInto_2DArray(ext_t2_gbm)"
   ]
  },
  {
   "cell_type": "code",
   "execution_count": null,
   "id": "db66c64d-cc10-4fbf-a8a6-b5f368df3776",
   "metadata": {},
   "outputs": [],
   "source": [
    "x_train_meta_mask = TurnInto_2DArray(x_train_meta_mask)\n",
    "x_train_meta_ct1 = TurnInto_2DArray(x_train_meta_ct1)\n",
    "x_train_meta_t2 = TurnInto_2DArray(x_train_meta_t2)\n",
    "\n",
    "x_val_meta_mask = TurnInto_2DArray(x_val_meta_mask)\n",
    "x_val_meta_ct1 = TurnInto_2DArray(x_val_meta_ct1)\n",
    "x_val_meta_t2 = TurnInto_2DArray(x_val_meta_t2)\n",
    "\n",
    "x_test_meta_mask = TurnInto_2DArray(x_test_meta_mask)\n",
    "x_test_meta_ct1 = TurnInto_2DArray(x_test_meta_ct1)\n",
    "x_test_meta_t2 = TurnInto_2DArray(x_test_meta_t2)\n",
    "\n",
    "x_ext_meta_mask = TurnInto_2DArray(ext_mask_meta)\n",
    "x_ext_meta_ct1 = TurnInto_2DArray(ext_ct1_meta)\n",
    "x_ext_meta_t2 = TurnInto_2DArray(ext_t2_meta)"
   ]
  },
  {
   "cell_type": "markdown",
   "id": "989798c5",
   "metadata": {},
   "source": [
    "## 3.2. Merge GBM, Metastasis and Resize"
   ]
  },
  {
   "cell_type": "code",
   "execution_count": null,
   "id": "1dad7e16",
   "metadata": {},
   "outputs": [],
   "source": [
    "def gbm_meta_merge(gbm, meta):\n",
    "    x = np.concatenate((gbm, meta), axis=0)\n",
    "    y = np.concatenate((np.zeros(len(gbm)), np.ones(len(meta))), axis=0)\n",
    "    return x, y"
   ]
  },
  {
   "cell_type": "markdown",
   "id": "4003ab5f-f367-4313-853b-e78ececa1dd7",
   "metadata": {},
   "source": [
    "### 3.2.1. Mask"
   ]
  },
  {
   "cell_type": "code",
   "execution_count": null,
   "id": "f7f26569",
   "metadata": {},
   "outputs": [],
   "source": [
    "def mask_resize(data, size=(224, 224)):\n",
    "    mask_resized = []\n",
    "    for x in data:\n",
    "        resize = cv2.resize(x, size, interpolation=cv2.INTER_NEAREST_EXACT)\n",
    "        mask_resized.append(resize)\n",
    "    return np.array(mask_resized)"
   ]
  },
  {
   "cell_type": "code",
   "execution_count": null,
   "id": "8470ebeb",
   "metadata": {},
   "outputs": [],
   "source": [
    "train_mask, _ = gbm_meta_merge(x_train_gbm_mask, x_train_meta_mask)\n",
    "valid_mask, _ = gbm_meta_merge(x_val_gbm_mask, x_val_meta_mask)\n",
    "test_mask, _ = gbm_meta_merge(x_test_gbm_mask, x_test_meta_mask)\n",
    "ext_mask, _ = gbm_meta_merge(x_ext_gbm_mask, x_ext_meta_mask)\n",
    "\n",
    "train_mask = mask_resize(train_mask)\n",
    "valid_mask = mask_resize(valid_mask)\n",
    "test_mask = mask_resize(test_mask)\n",
    "ext_mask = mask_resize(ext_mask)"
   ]
  },
  {
   "cell_type": "code",
   "execution_count": null,
   "id": "73246486",
   "metadata": {},
   "outputs": [],
   "source": [
    "train_mask.shape, valid_mask.shape, test_mask.shape, ext_mask.shape"
   ]
  },
  {
   "cell_type": "code",
   "execution_count": null,
   "id": "b054e134",
   "metadata": {},
   "outputs": [],
   "source": [
    "#save mask file \n",
    "data_dir = os.path.join(os.getcwd(), 'DataProcessed/final_mask')\n",
    "\n",
    "with open(os.path.join(data_dir, 'train_mask.pickle'), 'wb') as f:\n",
    "    pickle.dump(train_mask, f)\n",
    "with open(os.path.join(data_dir, 'valid_mask.pickle'), 'wb') as f:\n",
    "    pickle.dump(valid_mask, f)\n",
    "with open(os.path.join(data_dir, 'test_mask.pickle'), 'wb') as f:\n",
    "    pickle.dump(test_mask, f)\n",
    "with open(os.path.join(data_dir, 'ext_mask.pickle'), 'wb') as f:\n",
    "    pickle.dump(ext_mask, f)"
   ]
  },
  {
   "cell_type": "markdown",
   "id": "ff181006-b19b-4402-bafa-7c92b6569512",
   "metadata": {},
   "source": [
    "### 3.2.2. Train, validation, test data"
   ]
  },
  {
   "cell_type": "code",
   "execution_count": null,
   "id": "746f41ef",
   "metadata": {
    "tags": []
   },
   "outputs": [],
   "source": [
    "def data_resize(data, size=(224, 224)):\n",
    "    data_resized = []\n",
    "    for array in data:\n",
    "        img = Image.fromarray(array.astype(np.float32))\n",
    "        img = img.resize(size)\n",
    "        img = np.expand_dims(np.array(img), -1)\n",
    "        data_resized.append(img)\n",
    "    \n",
    "    return np.array(data_resized)"
   ]
  },
  {
   "cell_type": "code",
   "execution_count": null,
   "id": "2ee1ac43",
   "metadata": {},
   "outputs": [],
   "source": [
    "# Train data\n",
    "train_ct1, y_train = gbm_meta_merge(x_train_gbm_ct1, x_train_meta_ct1)\n",
    "train_t2, _ = gbm_meta_merge(x_train_gbm_t2, x_train_meta_t2)\n",
    "\n",
    "train_ct1 = data_resize(train_ct1)\n",
    "train_t2 = data_resize(train_t2)"
   ]
  },
  {
   "cell_type": "code",
   "execution_count": null,
   "id": "3fab2b0a",
   "metadata": {},
   "outputs": [],
   "source": [
    "# Validation data\n",
    "valid_ct1, y_valid = gbm_meta_merge(x_val_gbm_ct1, x_val_meta_ct1)\n",
    "valid_t2, _ = gbm_meta_merge(x_val_gbm_t2, x_val_meta_t2)\n",
    "\n",
    "valid_ct1 = data_resize(valid_ct1)\n",
    "valid_t2 = data_resize(valid_t2)"
   ]
  },
  {
   "cell_type": "code",
   "execution_count": null,
   "id": "477cb365",
   "metadata": {},
   "outputs": [],
   "source": [
    "# Internal test data\n",
    "test_ct1, y_test = gbm_meta_merge(x_test_gbm_ct1, x_test_meta_ct1)\n",
    "test_t2, _ = gbm_meta_merge(x_test_gbm_t2, x_test_meta_t2)\n",
    "\n",
    "test_ct1 = data_resize(test_ct1)\n",
    "test_t2 = data_resize(test_t2)"
   ]
  },
  {
   "cell_type": "code",
   "execution_count": null,
   "id": "3dd30dd8",
   "metadata": {},
   "outputs": [],
   "source": [
    "# External test data\n",
    "ext_ct1, y_ext = gbm_meta_merge(x_ext_gbm_ct1, x_ext_meta_ct1)\n",
    "ext_t2, _ = gbm_meta_merge(x_ext_gbm_t2, x_ext_meta_t2)\n",
    "\n",
    "ext_ct1 = data_resize(ext_ct1)\n",
    "ext_t2 = data_resize(ext_t2)"
   ]
  },
  {
   "cell_type": "code",
   "execution_count": null,
   "id": "73ddc39d",
   "metadata": {},
   "outputs": [],
   "source": [
    "train_ct1.shape, train_t2.shape, y_train.shape"
   ]
  },
  {
   "cell_type": "code",
   "execution_count": null,
   "id": "63493e5a",
   "metadata": {},
   "outputs": [],
   "source": [
    "valid_ct1.shape, valid_t2.shape, y_valid.shape"
   ]
  },
  {
   "cell_type": "code",
   "execution_count": null,
   "id": "a9ecc11f",
   "metadata": {},
   "outputs": [],
   "source": [
    "test_ct1.shape, test_t2.shape, y_test.shape"
   ]
  },
  {
   "cell_type": "code",
   "execution_count": null,
   "id": "d987ef38",
   "metadata": {},
   "outputs": [],
   "source": [
    "ext_ct1.shape, ext_t2.shape, y_ext.shape"
   ]
  },
  {
   "cell_type": "code",
   "execution_count": null,
   "id": "ca8c8461",
   "metadata": {},
   "outputs": [],
   "source": [
    "# save y data\n",
    "data_dir = os.path.join(os.getcwd(), 'DataProcessed/final_twoT2')\n",
    "\n",
    "with open(os.path.join(data_dir, 'y_train.pickle'), 'wb') as f:\n",
    "    pickle.dump(y_train, f)\n",
    "with open(os.path.join(data_dir, 'y_valid.pickle'), 'wb') as f:\n",
    "    pickle.dump(y_valid, f)\n",
    "with open(os.path.join(data_dir, 'y_test.pickle'), 'wb') as f:\n",
    "    pickle.dump(y_test, f)\n",
    "with open(os.path.join(data_dir, 'y_ext.pickle'), 'wb') as f:\n",
    "    pickle.dump(y_ext, f)"
   ]
  },
  {
   "cell_type": "markdown",
   "id": "QnlWsVOhxsHp",
   "metadata": {
    "id": "QnlWsVOhxsHp"
   },
   "source": [
    "## 3.3. Data Rescale"
   ]
  },
  {
   "cell_type": "code",
   "execution_count": null,
   "id": "1d1137b4",
   "metadata": {},
   "outputs": [],
   "source": [
    "# Each modality rescale\n",
    "ct1_scaler = MinMaxScaler()\n",
    "t2_scaler = MinMaxScaler()"
   ]
  },
  {
   "cell_type": "code",
   "execution_count": null,
   "id": "f01827ed",
   "metadata": {},
   "outputs": [],
   "source": [
    "def scaler_transform(data, scaler): #need to fit on train first\n",
    "    d1, d2, d3, d4 = data.shape\n",
    "    data = data.reshape(-1, d4)\n",
    "    data = scaler.transform(data).reshape(d1, d2, d3, d4)\n",
    "    return data"
   ]
  },
  {
   "cell_type": "markdown",
   "id": "d0310f4f",
   "metadata": {},
   "source": [
    "### 3.3.1. CT1"
   ]
  },
  {
   "cell_type": "code",
   "execution_count": null,
   "id": "7cfa46a6",
   "metadata": {},
   "outputs": [],
   "source": [
    "# fit & transform on train data (ct1)\n",
    "d1, d2, d3, d4 = train_ct1.shape\n",
    "train_ct1 = train_ct1.reshape(-1, d4)\n",
    "ct1_scaler.fit(train_ct1)\n",
    "train_ct1 = ct1_scaler.transform(train_ct1).reshape(d1, d2, d3, d4)"
   ]
  },
  {
   "cell_type": "code",
   "execution_count": null,
   "id": "5bcf6571",
   "metadata": {},
   "outputs": [],
   "source": [
    "valid_ct1 = scaler_transform(valid_ct1, ct1_scaler)\n",
    "test_ct1 = scaler_transform(test_ct1, ct1_scaler)\n",
    "ext_ct1 = scaler_transform(ext_ct1, ct1_scaler)"
   ]
  },
  {
   "cell_type": "code",
   "execution_count": null,
   "id": "bbae44ea-4bfc-4429-bc02-f1c247d4682c",
   "metadata": {},
   "outputs": [],
   "source": [
    "# visualizing extracted data\n",
    "n=0\n",
    "f, axarr = plt.subplots(10, 10, sharex=True, sharey=True, figsize=(20, 20))\n",
    "for i in range(10):\n",
    "    for j in range(10):\n",
    "        # put dataset you want to see\n",
    "        axarr[i, j].imshow(train_ct1[n+10*i+j][:,:,4], cmap='gray')\n",
    "        axarr[i, j].axis('off')\n",
    "        axarr[i, j].set_title(n+10*i+j)\n",
    "plt.show()"
   ]
  },
  {
   "cell_type": "code",
   "execution_count": null,
   "id": "500be67d",
   "metadata": {},
   "outputs": [],
   "source": [
    "print('CT1_Train Min-Max: ', train_ct1.min(), train_ct1.max())\n",
    "print('CT1_Valid Min-Max: ', valid_ct1.min(), valid_ct1.max())\n",
    "print('CT1_Test Min-Max: ', test_ct1.min(), test_ct1.max())\n",
    "print('CT1_Ext Min-Max: ', ext_ct1.min(), ext_ct1.max())"
   ]
  },
  {
   "cell_type": "markdown",
   "id": "6d448d7e",
   "metadata": {},
   "source": [
    "### 3.3.2. T2"
   ]
  },
  {
   "cell_type": "code",
   "execution_count": null,
   "id": "d55a33e6",
   "metadata": {},
   "outputs": [],
   "source": [
    "# fit & transform on train data (t2)\n",
    "d1, d2, d3, d4 = train_t2.shape\n",
    "train_t2 = train_t2.reshape(-1, d4)\n",
    "t2_scaler.fit(train_t2)\n",
    "train_t2 = t2_scaler.transform(train_t2).reshape(d1, d2, d3, d4)"
   ]
  },
  {
   "cell_type": "code",
   "execution_count": null,
   "id": "6dd7260d",
   "metadata": {},
   "outputs": [],
   "source": [
    "valid_t2 = scaler_transform(valid_t2, t2_scaler)\n",
    "test_t2 = scaler_transform(test_t2, t2_scaler)\n",
    "ext_t2 = scaler_transform(ext_t2, t2_scaler)"
   ]
  },
  {
   "cell_type": "code",
   "execution_count": null,
   "id": "9a147678",
   "metadata": {
    "tags": []
   },
   "outputs": [],
   "source": [
    "# visualizing extracted data\n",
    "n=0\n",
    "f, axarr = plt.subplots(10, 10, sharex=True, sharey=True, figsize=(20, 20))\n",
    "for i in range(10):\n",
    "    for j in range(10):\n",
    "        # put dataset you want to see\n",
    "        axarr[i, j].imshow(train_t2[n+10*i+j][:,:,4], cmap='gray')\n",
    "        axarr[i, j].axis('off')\n",
    "        axarr[i, j].set_title(n+10*i+j)\n",
    "plt.show()"
   ]
  },
  {
   "cell_type": "code",
   "execution_count": null,
   "id": "d7962524-9abd-444f-9869-3bf779a6f48e",
   "metadata": {},
   "outputs": [],
   "source": [
    "print('T2_Train Min-Max: ', train_t2.min(), train_t2.max())\n",
    "print('T2_Valid Min-Max: ', valid_t2.min(), valid_t2.max())\n",
    "print('T2_Test Min-Max: ', test_t2.min(), test_t2.max())\n",
    "print('T2_Ext Min-Max: ', ext_t2.min(), ext_t2.max())"
   ]
  },
  {
   "cell_type": "markdown",
   "id": "1fb58747",
   "metadata": {},
   "source": [
    "### 3.3.3. Data (CT1, T2) Concat"
   ]
  },
  {
   "cell_type": "code",
   "execution_count": null,
   "id": "e2dfc313",
   "metadata": {},
   "outputs": [],
   "source": [
    "def concat_ct1_t2(ct1, t2):\n",
    "    \n",
    "    final_data = []\n",
    "    \n",
    "    for i in range(len(ct1)):\n",
    "        concat = np.concatenate((t2[i], t2[i], ct1[i]), axis=2)\n",
    "        final_data.append(concat)\n",
    "        \n",
    "    return np.array(final_data)"
   ]
  },
  {
   "cell_type": "code",
   "execution_count": null,
   "id": "bbf54b25",
   "metadata": {},
   "outputs": [],
   "source": [
    "x_train = concat_ct1_t2(train_ct1, train_t2)\n",
    "x_valid = concat_ct1_t2(valid_ct1, valid_t2)\n",
    "x_test = concat_ct1_t2(test_ct1, test_t2)\n",
    "x_ext = concat_ct1_t2(ext_ct1, ext_t2)"
   ]
  },
  {
   "cell_type": "code",
   "execution_count": null,
   "id": "cb5498b0",
   "metadata": {},
   "outputs": [],
   "source": [
    "data_dir = os.path.join(os.getcwd(), 'DataProcessed/final_twoT2')\n",
    "\n",
    "with open(os.path.join(data_dir, 'x_train.pickle'), 'wb') as f:\n",
    "    pickle.dump(x_train, f)\n",
    "with open(os.path.join(data_dir, 'x_valid.pickle'), 'wb') as f:\n",
    "    pickle.dump(x_valid, f)\n",
    "with open(os.path.join(data_dir, 'x_test.pickle'), 'wb') as f:\n",
    "    pickle.dump(x_test, f)\n",
    "with open(os.path.join(data_dir, 'x_ext.pickle'), 'wb') as f:\n",
    "    pickle.dump(x_ext, f)"
   ]
  },
  {
   "cell_type": "code",
   "execution_count": null,
   "id": "df58700a",
   "metadata": {},
   "outputs": [],
   "source": [
    "# visualizing extracted data\n",
    "n=0\n",
    "f, axarr = plt.subplots(10, 10, sharex=True, sharey=True, figsize=(20, 20))\n",
    "for i in range(10):\n",
    "    for j in range(10):\n",
    "        # put dataset you want to see\n",
    "        axarr[i, j].imshow(x_train[n+10*i+j][:,:,4], cmap='gray')\n",
    "        axarr[i, j].axis('off')\n",
    "        axarr[i, j].set_title(n+10*i+j)\n",
    "plt.show()"
   ]
  },
  {
   "cell_type": "markdown",
   "id": "beeba724-6b15-404d-a28f-5e814eeb2ce1",
   "metadata": {},
   "source": [
    "# 4. OOD Data\n",
    "preprocessing OOD (meningioma) data"
   ]
  },
  {
   "cell_type": "markdown",
   "id": "1435de72-5ecc-4631-afa1-fa20bb42508e",
   "metadata": {},
   "source": [
    "## 4.1. Data paths"
   ]
  },
  {
   "cell_type": "code",
   "execution_count": null,
   "id": "5eb7aa9f-9035-4516-b89e-0d30bb270005",
   "metadata": {},
   "outputs": [],
   "source": [
    "data_dir= '../'\n",
    "\n",
    "sev_dir = os.path.join(data_dir, 'sev')"
   ]
  },
  {
   "cell_type": "code",
   "execution_count": null,
   "id": "199d4064-a0d0-4af8-84f1-0b63eb7efbf0",
   "metadata": {},
   "outputs": [],
   "source": [
    "# mask\n",
    "sev_dir_mask = glob(os.path.join(sev_dir, '*/*_T1C-label_resized.nii'))\n",
    "\n",
    "# T1C\n",
    "sev_dir_t1c = glob(os.path.join(sev_dir, '*/*_T1C_resized.nii'))\n",
    "\n",
    "# T2\n",
    "sev_dir_t2 = glob(os.path.join(sev_dir, '*/*_T2_resized.nii'))"
   ]
  },
  {
   "cell_type": "code",
   "execution_count": null,
   "id": "6c24af4a-07b1-4701-8f79-a4cc375208fd",
   "metadata": {},
   "outputs": [],
   "source": [
    "len(glob(os.path.join(sev_dir, '*')))"
   ]
  },
  {
   "cell_type": "code",
   "execution_count": null,
   "id": "52261646-7189-4dac-9d44-c4daf514e58d",
   "metadata": {},
   "outputs": [],
   "source": [
    "len(glob(os.path.join(sev_dir, '*/*.nii')))"
   ]
  },
  {
   "cell_type": "markdown",
   "id": "408b578c-11de-4a68-ac57-ed3f68c77fe6",
   "metadata": {},
   "source": [
    "## 4.2. Check shapes"
   ]
  },
  {
   "cell_type": "code",
   "execution_count": null,
   "id": "a729fd51-77f4-4eab-8c23-de607c114a95",
   "metadata": {},
   "outputs": [],
   "source": [
    "check_shape_difference(sev_dir_mask, sev_dir_t1c, sev_dir_t2)"
   ]
  },
  {
   "cell_type": "markdown",
   "id": "578fbfdf-f703-4aa7-b210-dc8dee77997e",
   "metadata": {},
   "source": [
    "## 4.3. Extracting top 5 slices by tumor segmentation (label) data"
   ]
  },
  {
   "cell_type": "code",
   "execution_count": null,
   "id": "9178a0ef-abb9-49f2-868f-6113cfea6b6d",
   "metadata": {},
   "outputs": [],
   "source": [
    "sev_index = total_index(sev_dir_mask)"
   ]
  },
  {
   "cell_type": "code",
   "execution_count": null,
   "id": "7a0e4a68-e56a-48e0-b442-d264d1eafb55",
   "metadata": {},
   "outputs": [],
   "source": [
    "sev_t1c = get_top5slices(sev_dir_t1c, sev_index)\n",
    "sev_t2 = get_top5slices(sev_dir_t2, sev_index)"
   ]
  },
  {
   "cell_type": "code",
   "execution_count": null,
   "id": "662eab80-aca8-40fe-b52c-9ebad62abc2b",
   "metadata": {},
   "outputs": [],
   "source": [
    "sev_t1c = TurnInto_2DArray(sev_t1c)\n",
    "sev_t2 = TurnInto_2DArray(sev_t2)"
   ]
  },
  {
   "cell_type": "markdown",
   "id": "f49ca6cc-594c-450b-8689-4b653618cc3f",
   "metadata": {},
   "source": [
    "## 4.4. Extracting label"
   ]
  },
  {
   "cell_type": "code",
   "execution_count": null,
   "id": "1e94d6ed-c8a6-4e4d-857f-ecdf18742468",
   "metadata": {},
   "outputs": [],
   "source": [
    "#create label data\n",
    "df = pd.read_excel(os.path.join(data_dir, 'ID_Label_Mapping_byCenters.xlsx'))"
   ]
  },
  {
   "cell_type": "code",
   "execution_count": null,
   "id": "8dba750b-1ff9-4ca7-b67b-ba9dc1e0df0d",
   "metadata": {},
   "outputs": [],
   "source": [
    "df_s = df.loc[df['center']=='Severance']\n",
    "df_s = df_s.reset_index()\n",
    "df_s = df_s.drop(columns='index')\n",
    "df_s['fnum'] = '-'\n",
    "\n",
    "for i in range(len(df_s)):\n",
    "    df_s['fnum'][i] = df_s['filename'][i].split('_')[0]"
   ]
  },
  {
   "cell_type": "code",
   "execution_count": null,
   "id": "ededebed-800b-41ec-bdb8-2c867fb5b80c",
   "metadata": {},
   "outputs": [],
   "source": [
    "y_sev = []\n",
    "for i, path in enumerate(sev_dir_t1c):\n",
    "    fname = path.split('/')[-2]\n",
    "    index = df_s.index[df_s['fnum']==fname].tolist()\n",
    "    for i in range(5):\n",
    "        y_sev.append(int(df_s['label'][index]))"
   ]
  },
  {
   "cell_type": "markdown",
   "id": "4bea16de-e70c-4fba-8f38-2972a2d3f5a2",
   "metadata": {},
   "source": [
    "## 4.5. Data resize"
   ]
  },
  {
   "cell_type": "code",
   "execution_count": null,
   "id": "eddb5c14-c0f9-4628-89fe-39946624d9e9",
   "metadata": {},
   "outputs": [],
   "source": [
    "sev_t1c = data_resize(sev_t1c)\n",
    "sev_t2 = data_resize(sev_t2)"
   ]
  },
  {
   "cell_type": "markdown",
   "id": "1a0091f7-570d-4c95-acff-13abccc68fec",
   "metadata": {},
   "source": [
    "## 4.6. Data rescale"
   ]
  },
  {
   "cell_type": "code",
   "execution_count": null,
   "id": "398ef57e-5dd9-402a-a9bd-ec6151be641d",
   "metadata": {},
   "outputs": [],
   "source": [
    "#re-run for each hospital data\n",
    "ct1_scaler = MinMaxScaler()\n",
    "t2_scaler = MinMaxScaler()"
   ]
  },
  {
   "cell_type": "code",
   "execution_count": null,
   "id": "75b03cca-36fc-48f5-ba07-9e077880ab7b",
   "metadata": {},
   "outputs": [],
   "source": [
    "# fit & transform on train data (ct1)\n",
    "d1, d2, d3, d4 = sev_t1c.shape\n",
    "sev_t1c = sev_t1c.reshape(-1, d4)\n",
    "ct1_scaler.fit(sev_t1c)\n",
    "sev_t1c = ct1_scaler.transform(sev_t1c).reshape(d1, d2, d3, d4)"
   ]
  },
  {
   "cell_type": "code",
   "execution_count": null,
   "id": "62ac324f-18ff-46eb-87a8-25c10c546e1e",
   "metadata": {},
   "outputs": [],
   "source": [
    "# fit & transform on train data (t2)\n",
    "d1, d2, d3, d4 = sev_t2.shape\n",
    "sev_t2 = sev_t2.reshape(-1, d4)\n",
    "t2_scaler.fit(sev_t2)\n",
    "sev_t2 = t2_scaler.transform(sev_t2).reshape(d1, d2, d3, d4)"
   ]
  },
  {
   "cell_type": "markdown",
   "id": "ca4270b2-af5b-4402-ba97-fcdb7048bff9",
   "metadata": {},
   "source": [
    "### 4.7. Data Concat"
   ]
  },
  {
   "cell_type": "code",
   "execution_count": null,
   "id": "3e9eed30-3ba1-4528-beec-fb3c9aca23a6",
   "metadata": {},
   "outputs": [],
   "source": [
    "x_sev = concat_ct1_t2(sev_t1c, sev_t2)"
   ]
  },
  {
   "cell_type": "code",
   "execution_count": null,
   "id": "2f72c316-f3d9-420c-90cd-88dbc6adb4ec",
   "metadata": {},
   "outputs": [],
   "source": [
    "with open(os.path.join(), 'wb') as f:\n",
    "    pickle.dump(x_sev, f)\n",
    "    \n",
    "with open(os.path.join(), 'wb') as f:\n",
    "    pickle.dump(y_sev, f)"
   ]
  },
  {
   "cell_type": "code",
   "execution_count": null,
   "id": "c6d575d9-7a5b-4a3f-a22e-495b119c04b5",
   "metadata": {},
   "outputs": [],
   "source": [
    "# visualizing extracted data\n",
    "n=0\n",
    "f, axarr = plt.subplots(10, 10, sharex=True, sharey=True, figsize=(20, 20))\n",
    "for i in range(10):\n",
    "    for j in range(10):\n",
    "        # put dataset you want to see\n",
    "        axarr[i, j].imshow(x_sev[n+50*i+5*j], cmap='gray')\n",
    "        axarr[i, j].axis('off')\n",
    "        axarr[i, j].set_title(n+50*i+5*j)\n",
    "plt.show()"
   ]
  },
  {
   "cell_type": "code",
   "execution_count": null,
   "id": "5649bb42-3daf-4316-ba92-2a90bf47e788",
   "metadata": {},
   "outputs": [],
   "source": [
    "x_sev.shape, np.array(y_sev).shape"
   ]
  },
  {
   "cell_type": "code",
   "execution_count": null,
   "id": "d286b0ed-2783-42ee-9451-377d952fe200",
   "metadata": {},
   "outputs": [],
   "source": []
  }
 ],
 "metadata": {
  "colab": {
   "collapsed_sections": [],
   "name": "[Brain-GBMmeta] Classification.ipynb",
   "provenance": []
  },
  "kernelspec": {
   "display_name": "Python 3",
   "language": "python",
   "name": "python3"
  },
  "language_info": {
   "codemirror_mode": {
    "name": "ipython",
    "version": 3
   },
   "file_extension": ".py",
   "mimetype": "text/x-python",
   "name": "python",
   "nbconvert_exporter": "python",
   "pygments_lexer": "ipython3",
   "version": "3.7.10"
  },
  "toc-autonumbering": false,
  "toc-showcode": false,
  "toc-showmarkdowntxt": false,
  "vscode": {
   "interpreter": {
    "hash": "31f2aee4e71d21fbe5cf8b01ff0e069b9275f58929596ceb00d14d90e3e16cd6"
   }
  }
 },
 "nbformat": 4,
 "nbformat_minor": 5
}
